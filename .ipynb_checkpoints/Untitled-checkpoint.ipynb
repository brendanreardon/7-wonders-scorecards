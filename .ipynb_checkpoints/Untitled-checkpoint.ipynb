{
 "cells": [
  {
   "cell_type": "code",
   "execution_count": 14,
   "metadata": {
    "collapsed": false
   },
   "outputs": [],
   "source": [
    "import pandas as pd\n",
    "import numpy as np\n",
    "import matplotlib as plt\n",
    "from PIL import Image\n",
    "import reportlab\n",
    "%matplotlib inline"
   ]
  },
  {
   "cell_type": "code",
   "execution_count": 44,
   "metadata": {
    "collapsed": true
   },
   "outputs": [],
   "source": [
    "from reportlab.pdfgen import canvas\n",
    "from reportlab.lib.units import inch"
   ]
  },
  {
   "cell_type": "code",
   "execution_count": 15,
   "metadata": {
    "collapsed": false
   },
   "outputs": [
    {
     "data": {
      "text/html": [
       "<div>\n",
       "<table border=\"1\" class=\"dataframe\">\n",
       "  <thead>\n",
       "    <tr style=\"text-align: right;\">\n",
       "      <th></th>\n",
       "      <th>Date</th>\n",
       "      <th>Round</th>\n",
       "      <th>Military</th>\n",
       "      <th>Gold</th>\n",
       "      <th>Wonder</th>\n",
       "      <th>Civic</th>\n",
       "      <th>Commercial</th>\n",
       "      <th>Scientific</th>\n",
       "      <th>Guilds</th>\n",
       "      <th>City</th>\n",
       "      <th>Total Score</th>\n",
       "      <th>Rank</th>\n",
       "      <th>Total Players</th>\n",
       "      <th>Left Player</th>\n",
       "      <th>Right Player</th>\n",
       "      <th>Arena</th>\n",
       "    </tr>\n",
       "  </thead>\n",
       "  <tbody>\n",
       "    <tr>\n",
       "      <th>0</th>\n",
       "      <td>7/12/2015</td>\n",
       "      <td>1</td>\n",
       "      <td>16</td>\n",
       "      <td>6</td>\n",
       "      <td>7</td>\n",
       "      <td>15</td>\n",
       "      <td>0</td>\n",
       "      <td>0</td>\n",
       "      <td>16</td>\n",
       "      <td>NaN</td>\n",
       "      <td>60</td>\n",
       "      <td>1</td>\n",
       "      <td>7</td>\n",
       "      <td>Lorelei</td>\n",
       "      <td>Miguel</td>\n",
       "      <td>Brendo's</td>\n",
       "    </tr>\n",
       "    <tr>\n",
       "      <th>1</th>\n",
       "      <td>7/12/2015</td>\n",
       "      <td>2</td>\n",
       "      <td>-4</td>\n",
       "      <td>5</td>\n",
       "      <td>3</td>\n",
       "      <td>8</td>\n",
       "      <td>7</td>\n",
       "      <td>7</td>\n",
       "      <td>9</td>\n",
       "      <td>NaN</td>\n",
       "      <td>35</td>\n",
       "      <td>7</td>\n",
       "      <td>7</td>\n",
       "      <td>Ethan</td>\n",
       "      <td>Brendan</td>\n",
       "      <td>Brendo's</td>\n",
       "    </tr>\n",
       "    <tr>\n",
       "      <th>2</th>\n",
       "      <td>7/19/2015</td>\n",
       "      <td>1</td>\n",
       "      <td>7</td>\n",
       "      <td>0</td>\n",
       "      <td>3</td>\n",
       "      <td>8</td>\n",
       "      <td>0</td>\n",
       "      <td>36</td>\n",
       "      <td>0</td>\n",
       "      <td>NaN</td>\n",
       "      <td>54</td>\n",
       "      <td>4</td>\n",
       "      <td>5</td>\n",
       "      <td>Ethan</td>\n",
       "      <td>Miguel</td>\n",
       "      <td>Brendo's</td>\n",
       "    </tr>\n",
       "    <tr>\n",
       "      <th>3</th>\n",
       "      <td>7/19/2015</td>\n",
       "      <td>2</td>\n",
       "      <td>-3</td>\n",
       "      <td>2</td>\n",
       "      <td>10</td>\n",
       "      <td>3</td>\n",
       "      <td>0</td>\n",
       "      <td>34</td>\n",
       "      <td>0</td>\n",
       "      <td>NaN</td>\n",
       "      <td>46</td>\n",
       "      <td>4</td>\n",
       "      <td>5</td>\n",
       "      <td>Ethan</td>\n",
       "      <td>Iosefa</td>\n",
       "      <td>Brendo's</td>\n",
       "    </tr>\n",
       "    <tr>\n",
       "      <th>4</th>\n",
       "      <td>7/19/2015</td>\n",
       "      <td>3</td>\n",
       "      <td>15</td>\n",
       "      <td>1</td>\n",
       "      <td>7</td>\n",
       "      <td>11</td>\n",
       "      <td>0</td>\n",
       "      <td>25</td>\n",
       "      <td>0</td>\n",
       "      <td>NaN</td>\n",
       "      <td>59</td>\n",
       "      <td>1</td>\n",
       "      <td>5</td>\n",
       "      <td>Iosefa</td>\n",
       "      <td>Brendan</td>\n",
       "      <td>Brendo's</td>\n",
       "    </tr>\n",
       "    <tr>\n",
       "      <th>5</th>\n",
       "      <td>7/26/2015</td>\n",
       "      <td>1</td>\n",
       "      <td>12</td>\n",
       "      <td>3</td>\n",
       "      <td>10</td>\n",
       "      <td>0</td>\n",
       "      <td>0</td>\n",
       "      <td>33</td>\n",
       "      <td>0</td>\n",
       "      <td>NaN</td>\n",
       "      <td>58</td>\n",
       "      <td>1</td>\n",
       "      <td>5</td>\n",
       "      <td>Iosefa</td>\n",
       "      <td>Lorelei</td>\n",
       "      <td>Sefa's</td>\n",
       "    </tr>\n",
       "    <tr>\n",
       "      <th>6</th>\n",
       "      <td>7/26/2015</td>\n",
       "      <td>2</td>\n",
       "      <td>16</td>\n",
       "      <td>6</td>\n",
       "      <td>7</td>\n",
       "      <td>20</td>\n",
       "      <td>5</td>\n",
       "      <td>0</td>\n",
       "      <td>0</td>\n",
       "      <td>NaN</td>\n",
       "      <td>54</td>\n",
       "      <td>2</td>\n",
       "      <td>5</td>\n",
       "      <td>Miguel</td>\n",
       "      <td>Ethan</td>\n",
       "      <td>Sefa's</td>\n",
       "    </tr>\n",
       "    <tr>\n",
       "      <th>7</th>\n",
       "      <td>7/26/2015</td>\n",
       "      <td>3</td>\n",
       "      <td>1</td>\n",
       "      <td>2</td>\n",
       "      <td>20</td>\n",
       "      <td>16</td>\n",
       "      <td>4</td>\n",
       "      <td>0</td>\n",
       "      <td>4</td>\n",
       "      <td>NaN</td>\n",
       "      <td>47</td>\n",
       "      <td>3</td>\n",
       "      <td>5</td>\n",
       "      <td>Miguel</td>\n",
       "      <td>Ethan</td>\n",
       "      <td>Sefa's</td>\n",
       "    </tr>\n",
       "    <tr>\n",
       "      <th>8</th>\n",
       "      <td>7/28/2015</td>\n",
       "      <td>1</td>\n",
       "      <td>3</td>\n",
       "      <td>1</td>\n",
       "      <td>2</td>\n",
       "      <td>3</td>\n",
       "      <td>9</td>\n",
       "      <td>5</td>\n",
       "      <td>2</td>\n",
       "      <td>9</td>\n",
       "      <td>34</td>\n",
       "      <td>6</td>\n",
       "      <td>8</td>\n",
       "      <td>Iosefa</td>\n",
       "      <td>Nate</td>\n",
       "      <td>Brendo's</td>\n",
       "    </tr>\n",
       "  </tbody>\n",
       "</table>\n",
       "</div>"
      ],
      "text/plain": [
       "        Date  Round  Military  Gold  Wonder  Civic  Commercial  Scientific  \\\n",
       "0  7/12/2015      1        16     6       7     15           0           0   \n",
       "1  7/12/2015      2        -4     5       3      8           7           7   \n",
       "2  7/19/2015      1         7     0       3      8           0          36   \n",
       "3  7/19/2015      2        -3     2      10      3           0          34   \n",
       "4  7/19/2015      3        15     1       7     11           0          25   \n",
       "5  7/26/2015      1        12     3      10      0           0          33   \n",
       "6  7/26/2015      2        16     6       7     20           5           0   \n",
       "7  7/26/2015      3         1     2      20     16           4           0   \n",
       "8  7/28/2015      1         3     1       2      3           9           5   \n",
       "\n",
       "   Guilds  City  Total Score  Rank  Total Players Left Player Right Player  \\\n",
       "0      16   NaN           60     1              7     Lorelei       Miguel   \n",
       "1       9   NaN           35     7              7       Ethan      Brendan   \n",
       "2       0   NaN           54     4              5       Ethan       Miguel   \n",
       "3       0   NaN           46     4              5       Ethan       Iosefa   \n",
       "4       0   NaN           59     1              5      Iosefa      Brendan   \n",
       "5       0   NaN           58     1              5      Iosefa      Lorelei   \n",
       "6       0   NaN           54     2              5      Miguel        Ethan   \n",
       "7       4   NaN           47     3              5      Miguel        Ethan   \n",
       "8       2     9           34     6              8      Iosefa         Nate   \n",
       "\n",
       "      Arena  \n",
       "0  Brendo's  \n",
       "1  Brendo's  \n",
       "2  Brendo's  \n",
       "3  Brendo's  \n",
       "4  Brendo's  \n",
       "5    Sefa's  \n",
       "6    Sefa's  \n",
       "7    Sefa's  \n",
       "8  Brendo's  "
      ]
     },
     "execution_count": 15,
     "metadata": {},
     "output_type": "execute_result"
    }
   ],
   "source": [
    "#input_selected = r'7\\ Wonders\\ Score\\ -\\ Iosefa.tsv'\n",
    "df = pd.read_csv(r'Kevin.tsv', sep = '\\t')\n",
    "df"
   ]
  },
  {
   "cell_type": "code",
   "execution_count": 16,
   "metadata": {
    "collapsed": false
   },
   "outputs": [
    {
     "data": {
      "text/plain": [
       "9"
      ]
     },
     "execution_count": 16,
     "metadata": {},
     "output_type": "execute_result"
    }
   ],
   "source": [
    "games_played = len(df)\n",
    "games_played"
   ]
  },
  {
   "cell_type": "code",
   "execution_count": 17,
   "metadata": {
    "collapsed": false
   },
   "outputs": [
    {
     "data": {
      "text/plain": [
       "3.2222222222222223"
      ]
     },
     "execution_count": 17,
     "metadata": {},
     "output_type": "execute_result"
    }
   ],
   "source": [
    "avg_rank = df['Rank'].mean()\n",
    "avg_rank"
   ]
  },
  {
   "cell_type": "code",
   "execution_count": 18,
   "metadata": {
    "collapsed": false
   },
   "outputs": [
    {
     "data": {
      "text/plain": [
       "0    1\n",
       "dtype: int64"
      ]
     },
     "execution_count": 18,
     "metadata": {},
     "output_type": "execute_result"
    }
   ],
   "source": [
    "mode_rank = df['Rank'].mode()\n",
    "mode_rank"
   ]
  },
  {
   "cell_type": "code",
   "execution_count": 19,
   "metadata": {
    "collapsed": false
   },
   "outputs": [
    {
     "data": {
      "text/plain": [
       "0.5436507936507937"
      ]
     },
     "execution_count": 19,
     "metadata": {},
     "output_type": "execute_result"
    }
   ],
   "source": [
    "avg_rank_norm = df['Rank'].divide(df['Total Players']).mean()\n",
    "avg_rank_norm"
   ]
  },
  {
   "cell_type": "code",
   "execution_count": 20,
   "metadata": {
    "collapsed": false
   },
   "outputs": [
    {
     "data": {
      "text/plain": [
       "49.666666666666664"
      ]
     },
     "execution_count": 20,
     "metadata": {},
     "output_type": "execute_result"
    }
   ],
   "source": [
    "avg_score = df['Total Score'].mean()\n",
    "avg_score"
   ]
  },
  {
   "cell_type": "code",
   "execution_count": 21,
   "metadata": {
    "collapsed": true
   },
   "outputs": [],
   "source": [
    "low_score = df['Total Score'].min()\n",
    "high_score = df['Total Score'].max()"
   ]
  },
  {
   "cell_type": "code",
   "execution_count": 22,
   "metadata": {
    "collapsed": false
   },
   "outputs": [
    {
     "data": {
      "text/plain": [
       "34"
      ]
     },
     "execution_count": 22,
     "metadata": {},
     "output_type": "execute_result"
    }
   ],
   "source": [
    "low_score"
   ]
  },
  {
   "cell_type": "code",
   "execution_count": 23,
   "metadata": {
    "collapsed": true
   },
   "outputs": [],
   "source": [
    "cols = ['Military', 'Gold', 'Wonder', 'Civic', 'Commercial', 'Scientific', 'Guilds', 'City']"
   ]
  },
  {
   "cell_type": "code",
   "execution_count": null,
   "metadata": {
    "collapsed": false
   },
   "outputs": [],
   "source": []
  },
  {
   "cell_type": "code",
   "execution_count": null,
   "metadata": {
    "collapsed": false
   },
   "outputs": [],
   "source": []
  },
  {
   "cell_type": "code",
   "execution_count": 24,
   "metadata": {
    "collapsed": false
   },
   "outputs": [
    {
     "data": {
      "text/plain": [
       "0    Scientific\n",
       "dtype: object"
      ]
     },
     "execution_count": 24,
     "metadata": {},
     "output_type": "execute_result"
    }
   ],
   "source": [
    "# Gives the fraction that each card gives to your overall points each game\n",
    "df2 = df[cols].divide(df['Total Score'], axis = 'index')\n",
    "df2\n",
    "# Which most popularly show up\n",
    "df2.idxmax(axis = 1).mode()"
   ]
  },
  {
   "cell_type": "code",
   "execution_count": 25,
   "metadata": {
    "collapsed": false
   },
   "outputs": [
    {
     "data": {
      "text/plain": [
       "0    Scientific\n",
       "dtype: object"
      ]
     },
     "execution_count": 25,
     "metadata": {},
     "output_type": "execute_result"
    }
   ],
   "source": [
    "df2.idxmax(axis = 1).mode()"
   ]
  },
  {
   "cell_type": "code",
   "execution_count": 26,
   "metadata": {
    "collapsed": false
   },
   "outputs": [
    {
     "data": {
      "text/plain": [
       "0    Scientific\n",
       "dtype: object"
      ]
     },
     "execution_count": 26,
     "metadata": {},
     "output_type": "execute_result"
    }
   ],
   "source": [
    "freq_strat = df[cols].divide(df['Total Score'], axis = 'index').idxmax(axis = 1).mode()\n",
    "freq_strat"
   ]
  },
  {
   "cell_type": "code",
   "execution_count": 206,
   "metadata": {
    "collapsed": false
   },
   "outputs": [],
   "source": [
    "# Tableau20\n",
    "#tableau = [(31,119,180),(44,160,44)]\n",
    "colors_tableau10M = [(31,119,180),(44,160,44)]                   \n",
    "for i in range(len(colors_tableau10M)):\n",
    "    r, g, b = colors_tableau10M[i]\n",
    "    colors_tableau10M[i] = (r / 255., g / 255., b / 255.)"
   ]
  },
  {
   "cell_type": "code",
   "execution_count": 204,
   "metadata": {
    "collapsed": false
   },
   "outputs": [],
   "source": [
    "colors_tableau10M = [(103,191,92),(255,158,74),(114,158,206),\n",
    "\t\t\t\t\t(237,102,93),(168,120,110),(162,162,162)]                    \n",
    "for i in range(len(colors_tableau10M)):\n",
    "    r, g, b = colors_tableau10M[i]\n",
    "    colors_tableau10M[i] = (r / 255., g / 255., b / 255.)"
   ]
  },
  {
   "cell_type": "code",
   "execution_count": null,
   "metadata": {
    "collapsed": false
   },
   "outputs": [],
   "source": []
  },
  {
   "cell_type": "code",
   "execution_count": null,
   "metadata": {
    "collapsed": false
   },
   "outputs": [],
   "source": []
  },
  {
   "cell_type": "code",
   "execution_count": 159,
   "metadata": {
    "collapsed": false
   },
   "outputs": [],
   "source": []
  },
  {
   "cell_type": "code",
   "execution_count": null,
   "metadata": {
    "collapsed": false
   },
   "outputs": [],
   "source": []
  },
  {
   "cell_type": "code",
   "execution_count": 223,
   "metadata": {
    "collapsed": false
   },
   "outputs": [],
   "source": [
    "from reportlab.pdfgen import canvas\n",
    "\n",
    "width = 4.75\n",
    "height = 1.25\n",
    "\n",
    "def hello(c):\n",
    "    from reportlab.lib.units import inch\n",
    "\n",
    "    #Second Example\n",
    "    #c.setStrokeColorRGB(0,255,0.3) #choose your line color\n",
    "    #c.line(2,2,2*inch,2*inch)\n",
    "\n",
    "    #Third Example\n",
    "    c.setFillColorRGB(44./256,160./256,44./256) #choose fill colour\n",
    "    c.rect(0, 0, width*inch, height*inch, fill=1)\n",
    "    \n",
    "    #First Example - Name\n",
    "    c.setFillColorRGB(256./256,255./256,255./256) #choose your font colour\n",
    "    c.setFont(\"Helvetica\", 24) #choose your font type and font size\n",
    "    c.drawString(85 - 1*inch,135  - 1*inch,\"Kevin Craven\") # write your text\n",
    "    \n",
    "    #First Example - Mode Rank\n",
    "    c.setFillColorRGB(255./256,221./256,113./256) #choose your font colour\n",
    "    c.setFont(\"Helvetica\", 24) #choose your font type and font size\n",
    "    c.drawString(390 - 1*inch,135 - 1*inch,str(mode_rank[0])) # write your text\n",
    "    \n",
    "    #First Example - Avg Rank\n",
    "    c.setFillColorRGB(256./256,255./256,255./256) #choose your font colour\n",
    "    c.setFont(\"Helvetica\", 14) #choose your font type and font size\n",
    "    c.drawString(300 - 1*inch,105 - 1*inch,(\"Avg Rank: \" + str(\"{0:.2f}\".format(avg_rank)))) # write your text\n",
    "    \n",
    "    #First Example - Avg Score\n",
    "    c.setFillColorRGB(256./256,255./256,255./256) #choose your font colour\n",
    "    c.setFont(\"Helvetica\", 14) #choose your font type and font size\n",
    "    c.drawString(300 - 1*inch,85 - 1*inch,(\"Avg Score: \" + str(\"{0:.2f}\".format(avg_score)))) # write your text\n",
    "    \n",
    "    #First Example - High Score\n",
    "    c.setFillColorRGB(256./256,255./256,255./256) #choose your font colour\n",
    "    c.setFont(\"Helvetica\", 14) #choose your font type and font size\n",
    "    c.drawString(200 - 1*inch,105 - 1*inch,(\"High Score: \" + str(\"{0:.0f}\".format(high_score)))) # write your text\n",
    "    \n",
    "    #First Example - Low Score\n",
    "    c.setFillColorRGB(256./256,255./256,255./256) #choose your font colour\n",
    "    c.setFont(\"Helvetica\", 14) #choose your font type and font size\n",
    "    c.drawString(200 - 1*inch,85 - 1*inch,(\"Low Score: \" + str(\"{0:.0f}\".format(low_score)))) # write your text\n",
    "\n",
    "    # Games played\n",
    "    c.setFillColorRGB(256./256,255./256,255./256) #choose your font colour\n",
    "    c.setFont(\"Helvetica\", 14) #choose your font type and font size\n",
    "    c.drawString(80 - 1*inch,85 - 1*inch,(\"Games played: \" + str(\"{0:.0f}\".format(games_played)))) # write your text\n",
    "    \n",
    "c = canvas.Canvas(\"kevin.pdf\")\n",
    "c.setPageSize( (4.75*inch, 1.25*inch))\n",
    "\n",
    "hello(c)\n",
    "c.showPage()\n",
    "c.save()"
   ]
  },
  {
   "cell_type": "code",
   "execution_count": 67,
   "metadata": {
    "collapsed": false
   },
   "outputs": [],
   "source": [
    "for i in range(len(colors)):\n",
    "    r, g, b = colors[i]\n",
    "    colors[i] = r/256.,g/256.,b/256."
   ]
  },
  {
   "cell_type": "code",
   "execution_count": 69,
   "metadata": {
    "collapsed": false
   },
   "outputs": [
    {
     "data": {
      "text/plain": [
       "0.0036163330078125"
      ]
     },
     "execution_count": 69,
     "metadata": {},
     "output_type": "execute_result"
    }
   ],
   "source": [
    "colors[0][0]"
   ]
  },
  {
   "cell_type": "code",
   "execution_count": 72,
   "metadata": {
    "collapsed": false
   },
   "outputs": [],
   "source": [
    "test0= 75/256\n",
    "test1= 116/256\n",
    "test2=156/256\n",
    "c.setFillColorRGB(test0,test1,test2)"
   ]
  },
  {
   "cell_type": "code",
   "execution_count": 2,
   "metadata": {
    "collapsed": false
   },
   "outputs": [
    {
     "data": {
      "text/plain": [
       "(0.92578125, 0.3984375, 0.36328125)"
      ]
     },
     "execution_count": 2,
     "metadata": {},
     "output_type": "execute_result"
    }
   ],
   "source": [
    "colors[0]"
   ]
  },
  {
   "cell_type": "code",
   "execution_count": 3,
   "metadata": {
    "collapsed": false
   },
   "outputs": [
    {
     "data": {
      "text/plain": [
       "(1.0, 0.99609375, 0.99609375)"
      ]
     },
     "execution_count": 3,
     "metadata": {},
     "output_type": "execute_result"
    }
   ],
   "source": [
    "(256./256,255./256,255./256)"
   ]
  },
  {
   "cell_type": "code",
   "execution_count": 9,
   "metadata": {
    "collapsed": false
   },
   "outputs": [
    {
     "data": {
      "text/plain": [
       "tuple"
      ]
     },
     "execution_count": 9,
     "metadata": {},
     "output_type": "execute_result"
    }
   ],
   "source": [
    "type((237./256,102./256,93./256))"
   ]
  },
  {
   "cell_type": "code",
   "execution_count": 5,
   "metadata": {
    "collapsed": true
   },
   "outputs": [],
   "source": [
    "colors = [(237,102,93),(255,158,74),(168,120,110), # Military, Red. Gold, Orange. Wonder, Brown.\n",
    "\t\t\t(114,158,206),(205,204,93),(103,191,92), # Civic, Blue. Commerce, Yellow. Scientific, Green.\n",
    "\t\t\t\t\t\t(173,139,201),(162,162,162)] # Guilds, Purple, Cities, Grey. \t\t                 \n",
    "for i in range(len(colors)):\n",
    "    r, g, b = colors[i]\n",
    "    colors[i] = (r / 256., g / 256., b / 256.)"
   ]
  },
  {
   "cell_type": "code",
   "execution_count": 8,
   "metadata": {
    "collapsed": false
   },
   "outputs": [
    {
     "data": {
      "text/plain": [
       "tuple"
      ]
     },
     "execution_count": 8,
     "metadata": {},
     "output_type": "execute_result"
    }
   ],
   "source": [
    "type(colors[0])"
   ]
  },
  {
   "cell_type": "code",
   "execution_count": 10,
   "metadata": {
    "collapsed": false
   },
   "outputs": [
    {
     "data": {
      "text/plain": [
       "(0.99609375, 0.6171875, 0.2890625)"
      ]
     },
     "execution_count": 10,
     "metadata": {},
     "output_type": "execute_result"
    }
   ],
   "source": [
    "colors[1]"
   ]
  },
  {
   "cell_type": "code",
   "execution_count": 35,
   "metadata": {
    "collapsed": false
   },
   "outputs": [
    {
     "data": {
      "text/plain": [
       "float"
      ]
     },
     "execution_count": 35,
     "metadata": {},
     "output_type": "execute_result"
    }
   ],
   "source": [
    "type(10./256)"
   ]
  },
  {
   "cell_type": "code",
   "execution_count": 37,
   "metadata": {
    "collapsed": false
   },
   "outputs": [
    {
     "data": {
      "text/plain": [
       "(0.99609375, 0.6171875, 0.2890625)"
      ]
     },
     "execution_count": 37,
     "metadata": {},
     "output_type": "execute_result"
    }
   ],
   "source": [
    "255/256.,158/256.,74/256."
   ]
  },
  {
   "cell_type": "code",
   "execution_count": 27,
   "metadata": {
    "collapsed": false
   },
   "outputs": [
    {
     "data": {
      "text/plain": [
       "0    Scientific\n",
       "dtype: object"
      ]
     },
     "execution_count": 27,
     "metadata": {},
     "output_type": "execute_result"
    }
   ],
   "source": [
    "freq_strat"
   ]
  },
  {
   "cell_type": "code",
   "execution_count": 30,
   "metadata": {
    "collapsed": false
   },
   "outputs": [
    {
     "data": {
      "text/plain": [
       "True"
      ]
     },
     "execution_count": 30,
     "metadata": {},
     "output_type": "execute_result"
    }
   ],
   "source": [
    "freq_strat[0] == 'Scientific'"
   ]
  },
  {
   "cell_type": "code",
   "execution_count": 29,
   "metadata": {
    "collapsed": false
   },
   "outputs": [
    {
     "data": {
      "text/plain": [
       "pandas.core.series.Series"
      ]
     },
     "execution_count": 29,
     "metadata": {},
     "output_type": "execute_result"
    }
   ],
   "source": [
    "type(freq_strat)"
   ]
  },
  {
   "cell_type": "code",
   "execution_count": 56,
   "metadata": {
    "collapsed": true
   },
   "outputs": [],
   "source": [
    "# Color code by frequency strategy. Tableau 10 Medium.\n",
    "colors = [(237,102,93),(255,158,74),(168,120,110), # Military, Red. Gold, Orange. Wonder, Brown.\n",
    "\t\t\t(114,158,206),(205,204,93),(103,191,92), # Civic, Blue. Commerce, Yellow. Scientific, Green.\n",
    "\t\t\t\t\t\t(173,139,201),(162,162,162)] # Guilds, Purple, Cities, Grey. \t\t                 \n",
    "for i in range(len(colors)):\n",
    "    r, g, b = colors[i]\n",
    "    colors[i] = r/256.,g/256.,b/256."
   ]
  },
  {
   "cell_type": "code",
   "execution_count": 61,
   "metadata": {
    "collapsed": false
   },
   "outputs": [
    {
     "data": {
      "text/plain": [
       "tuple"
      ]
     },
     "execution_count": 61,
     "metadata": {},
     "output_type": "execute_result"
    }
   ],
   "source": [
    "type(colors[0])"
   ]
  },
  {
   "cell_type": "code",
   "execution_count": 62,
   "metadata": {
    "collapsed": false
   },
   "outputs": [
    {
     "data": {
      "text/plain": [
       "(float, float, float)"
      ]
     },
     "execution_count": 62,
     "metadata": {},
     "output_type": "execute_result"
    }
   ],
   "source": [
    "type(0.92578125), type(0.3984375), type(0.36328125)"
   ]
  },
  {
   "cell_type": "code",
   "execution_count": 57,
   "metadata": {
    "collapsed": false
   },
   "outputs": [
    {
     "ename": "TypeError",
     "evalue": "setFillColorRGB() takes at least 4 arguments (2 given)",
     "output_type": "error",
     "traceback": [
      "\u001b[0;31m---------------------------------------------------------------------------\u001b[0m",
      "\u001b[0;31mTypeError\u001b[0m                                 Traceback (most recent call last)",
      "\u001b[0;32m<ipython-input-57-4e728c3d03c2>\u001b[0m in \u001b[0;36m<module>\u001b[0;34m()\u001b[0m\n\u001b[1;32m      1\u001b[0m \u001b[0mc\u001b[0m \u001b[0;34m=\u001b[0m \u001b[0mcanvas\u001b[0m\u001b[0;34m.\u001b[0m\u001b[0mCanvas\u001b[0m\u001b[0;34m(\u001b[0m\u001b[0;34m\"kevin.pdf\"\u001b[0m\u001b[0;34m)\u001b[0m\u001b[0;34m\u001b[0m\u001b[0m\n\u001b[1;32m      2\u001b[0m \u001b[0mc\u001b[0m\u001b[0;34m.\u001b[0m\u001b[0msetPageSize\u001b[0m\u001b[0;34m(\u001b[0m \u001b[0;34m(\u001b[0m\u001b[0;36m4.75\u001b[0m\u001b[0;34m*\u001b[0m\u001b[0minch\u001b[0m\u001b[0;34m,\u001b[0m \u001b[0;36m1.25\u001b[0m\u001b[0;34m*\u001b[0m\u001b[0minch\u001b[0m\u001b[0;34m)\u001b[0m\u001b[0;34m)\u001b[0m\u001b[0;34m\u001b[0m\u001b[0m\n\u001b[0;32m----> 3\u001b[0;31m \u001b[0mc\u001b[0m\u001b[0;34m.\u001b[0m\u001b[0msetFillColorRGB\u001b[0m\u001b[0;34m(\u001b[0m\u001b[0mcolors\u001b[0m\u001b[0;34m[\u001b[0m\u001b[0;36m0\u001b[0m\u001b[0;34m]\u001b[0m\u001b[0;34m)\u001b[0m \u001b[0;31m#choose fill colour\u001b[0m\u001b[0;34m\u001b[0m\u001b[0m\n\u001b[0m\u001b[1;32m      4\u001b[0m \u001b[0mc\u001b[0m\u001b[0;34m.\u001b[0m\u001b[0mrect\u001b[0m\u001b[0;34m(\u001b[0m\u001b[0;36m0\u001b[0m\u001b[0;34m,\u001b[0m \u001b[0;36m0\u001b[0m\u001b[0;34m,\u001b[0m \u001b[0mwidth\u001b[0m\u001b[0;34m*\u001b[0m\u001b[0minch\u001b[0m\u001b[0;34m,\u001b[0m \u001b[0mheight\u001b[0m\u001b[0;34m*\u001b[0m\u001b[0minch\u001b[0m\u001b[0;34m,\u001b[0m \u001b[0mfill\u001b[0m\u001b[0;34m=\u001b[0m\u001b[0;36m1\u001b[0m\u001b[0;34m)\u001b[0m\u001b[0;34m\u001b[0m\u001b[0m\n",
      "\u001b[0;31mTypeError\u001b[0m: setFillColorRGB() takes at least 4 arguments (2 given)"
     ]
    }
   ],
   "source": [
    "c = canvas.Canvas(\"kevin.pdf\")\n",
    "c.setPageSize( (4.75*inch, 1.25*inch))\n",
    "c.setFillColorRGB(colors[0]) #choose fill colour\n",
    "c.rect(0, 0, width*inch, height*inch, fill=1)"
   ]
  },
  {
   "cell_type": "code",
   "execution_count": 49,
   "metadata": {
    "collapsed": false
   },
   "outputs": [],
   "source": [
    "c.setFillColorRGB(0.92578125, 0.3984375, 0.36328125)"
   ]
  },
  {
   "cell_type": "code",
   "execution_count": 50,
   "metadata": {
    "collapsed": false
   },
   "outputs": [
    {
     "ename": "TypeError",
     "evalue": "type() argument 1 must be string, not float",
     "output_type": "error",
     "traceback": [
      "\u001b[0;31m---------------------------------------------------------------------------\u001b[0m",
      "\u001b[0;31mTypeError\u001b[0m                                 Traceback (most recent call last)",
      "\u001b[0;32m<ipython-input-50-d6c7f753e803>\u001b[0m in \u001b[0;36m<module>\u001b[0;34m()\u001b[0m\n\u001b[0;32m----> 1\u001b[0;31m \u001b[0mtype\u001b[0m\u001b[0;34m(\u001b[0m\u001b[0;36m0.92578125\u001b[0m\u001b[0;34m,\u001b[0m \u001b[0;36m0.3984375\u001b[0m\u001b[0;34m,\u001b[0m \u001b[0;36m0.36328125\u001b[0m\u001b[0;34m)\u001b[0m\u001b[0;34m\u001b[0m\u001b[0m\n\u001b[0m",
      "\u001b[0;31mTypeError\u001b[0m: type() argument 1 must be string, not float"
     ]
    }
   ],
   "source": [
    "0.92578125, 0.3984375, 0.36328125)"
   ]
  },
  {
   "cell_type": "code",
   "execution_count": 88,
   "metadata": {
    "collapsed": false
   },
   "outputs": [
    {
     "data": {
      "text/html": [
       "<div>\n",
       "<table border=\"1\" class=\"dataframe\">\n",
       "  <thead>\n",
       "    <tr style=\"text-align: right;\">\n",
       "      <th></th>\n",
       "      <th>Date</th>\n",
       "      <th>Round</th>\n",
       "      <th>Military</th>\n",
       "      <th>Gold</th>\n",
       "      <th>Wonder</th>\n",
       "      <th>Civic</th>\n",
       "      <th>Commercial</th>\n",
       "      <th>Scientific</th>\n",
       "      <th>Guilds</th>\n",
       "      <th>City</th>\n",
       "      <th>Total Score</th>\n",
       "      <th>Rank</th>\n",
       "      <th>Total Players</th>\n",
       "      <th>Left Player</th>\n",
       "      <th>Right Player</th>\n",
       "      <th>Arena</th>\n",
       "    </tr>\n",
       "  </thead>\n",
       "  <tbody>\n",
       "    <tr>\n",
       "      <th>0</th>\n",
       "      <td>7/12/2015</td>\n",
       "      <td>1</td>\n",
       "      <td>-4</td>\n",
       "      <td>2</td>\n",
       "      <td>3</td>\n",
       "      <td>0</td>\n",
       "      <td>2</td>\n",
       "      <td>28</td>\n",
       "      <td>25</td>\n",
       "      <td>NaN</td>\n",
       "      <td>56</td>\n",
       "      <td>2</td>\n",
       "      <td>7</td>\n",
       "      <td>Brendan</td>\n",
       "      <td>Ethan</td>\n",
       "      <td>Brendo's</td>\n",
       "    </tr>\n",
       "    <tr>\n",
       "      <th>1</th>\n",
       "      <td>7/12/2015</td>\n",
       "      <td>2</td>\n",
       "      <td>16</td>\n",
       "      <td>6</td>\n",
       "      <td>10</td>\n",
       "      <td>0</td>\n",
       "      <td>0</td>\n",
       "      <td>11</td>\n",
       "      <td>12</td>\n",
       "      <td>NaN</td>\n",
       "      <td>55</td>\n",
       "      <td>2</td>\n",
       "      <td>7</td>\n",
       "      <td>Iosefa</td>\n",
       "      <td>Ethan</td>\n",
       "      <td>Brendo's</td>\n",
       "    </tr>\n",
       "    <tr>\n",
       "      <th>2</th>\n",
       "      <td>7/28/2015</td>\n",
       "      <td>1</td>\n",
       "      <td>-3</td>\n",
       "      <td>6</td>\n",
       "      <td>12</td>\n",
       "      <td>8</td>\n",
       "      <td>0</td>\n",
       "      <td>1</td>\n",
       "      <td>0</td>\n",
       "      <td>5</td>\n",
       "      <td>29</td>\n",
       "      <td>7</td>\n",
       "      <td>8</td>\n",
       "      <td>Brendan</td>\n",
       "      <td>Iosefa</td>\n",
       "      <td>Brendo's</td>\n",
       "    </tr>\n",
       "    <tr>\n",
       "      <th>3</th>\n",
       "      <td>NaN</td>\n",
       "      <td>NaN</td>\n",
       "      <td>NaN</td>\n",
       "      <td>NaN</td>\n",
       "      <td>NaN</td>\n",
       "      <td>NaN</td>\n",
       "      <td>NaN</td>\n",
       "      <td>NaN</td>\n",
       "      <td>NaN</td>\n",
       "      <td>NaN</td>\n",
       "      <td>NaN</td>\n",
       "      <td>NaN</td>\n",
       "      <td>NaN</td>\n",
       "      <td>NaN</td>\n",
       "      <td>NaN</td>\n",
       "      <td>NaN</td>\n",
       "    </tr>\n",
       "    <tr>\n",
       "      <th>4</th>\n",
       "      <td>NaN</td>\n",
       "      <td>NaN</td>\n",
       "      <td>NaN</td>\n",
       "      <td>NaN</td>\n",
       "      <td>NaN</td>\n",
       "      <td>NaN</td>\n",
       "      <td>NaN</td>\n",
       "      <td>NaN</td>\n",
       "      <td>NaN</td>\n",
       "      <td>NaN</td>\n",
       "      <td>NaN</td>\n",
       "      <td>NaN</td>\n",
       "      <td>NaN</td>\n",
       "      <td>NaN</td>\n",
       "      <td>NaN</td>\n",
       "      <td>NaN</td>\n",
       "    </tr>\n",
       "    <tr>\n",
       "      <th>5</th>\n",
       "      <td>NaN</td>\n",
       "      <td>NaN</td>\n",
       "      <td>NaN</td>\n",
       "      <td>NaN</td>\n",
       "      <td>NaN</td>\n",
       "      <td>NaN</td>\n",
       "      <td>NaN</td>\n",
       "      <td>NaN</td>\n",
       "      <td>NaN</td>\n",
       "      <td>NaN</td>\n",
       "      <td>NaN</td>\n",
       "      <td>NaN</td>\n",
       "      <td>NaN</td>\n",
       "      <td>NaN</td>\n",
       "      <td>NaN</td>\n",
       "      <td>NaN</td>\n",
       "    </tr>\n",
       "    <tr>\n",
       "      <th>6</th>\n",
       "      <td>NaN</td>\n",
       "      <td>NaN</td>\n",
       "      <td>NaN</td>\n",
       "      <td>NaN</td>\n",
       "      <td>NaN</td>\n",
       "      <td>NaN</td>\n",
       "      <td>NaN</td>\n",
       "      <td>NaN</td>\n",
       "      <td>NaN</td>\n",
       "      <td>NaN</td>\n",
       "      <td>NaN</td>\n",
       "      <td>NaN</td>\n",
       "      <td>NaN</td>\n",
       "      <td>NaN</td>\n",
       "      <td>NaN</td>\n",
       "      <td>NaN</td>\n",
       "    </tr>\n",
       "    <tr>\n",
       "      <th>7</th>\n",
       "      <td>NaN</td>\n",
       "      <td>NaN</td>\n",
       "      <td>NaN</td>\n",
       "      <td>NaN</td>\n",
       "      <td>NaN</td>\n",
       "      <td>NaN</td>\n",
       "      <td>NaN</td>\n",
       "      <td>NaN</td>\n",
       "      <td>NaN</td>\n",
       "      <td>NaN</td>\n",
       "      <td>NaN</td>\n",
       "      <td>NaN</td>\n",
       "      <td>NaN</td>\n",
       "      <td>NaN</td>\n",
       "      <td>NaN</td>\n",
       "      <td>NaN</td>\n",
       "    </tr>\n",
       "    <tr>\n",
       "      <th>8</th>\n",
       "      <td>NaN</td>\n",
       "      <td>NaN</td>\n",
       "      <td>NaN</td>\n",
       "      <td>NaN</td>\n",
       "      <td>NaN</td>\n",
       "      <td>NaN</td>\n",
       "      <td>NaN</td>\n",
       "      <td>NaN</td>\n",
       "      <td>NaN</td>\n",
       "      <td>NaN</td>\n",
       "      <td>NaN</td>\n",
       "      <td>NaN</td>\n",
       "      <td>NaN</td>\n",
       "      <td>NaN</td>\n",
       "      <td>NaN</td>\n",
       "      <td>NaN</td>\n",
       "    </tr>\n",
       "    <tr>\n",
       "      <th>9</th>\n",
       "      <td>NaN</td>\n",
       "      <td>NaN</td>\n",
       "      <td>NaN</td>\n",
       "      <td>NaN</td>\n",
       "      <td>NaN</td>\n",
       "      <td>NaN</td>\n",
       "      <td>NaN</td>\n",
       "      <td>NaN</td>\n",
       "      <td>NaN</td>\n",
       "      <td>NaN</td>\n",
       "      <td>NaN</td>\n",
       "      <td>NaN</td>\n",
       "      <td>NaN</td>\n",
       "      <td>NaN</td>\n",
       "      <td>NaN</td>\n",
       "      <td>NaN</td>\n",
       "    </tr>\n",
       "    <tr>\n",
       "      <th>10</th>\n",
       "      <td>NaN</td>\n",
       "      <td>NaN</td>\n",
       "      <td>NaN</td>\n",
       "      <td>NaN</td>\n",
       "      <td>NaN</td>\n",
       "      <td>NaN</td>\n",
       "      <td>NaN</td>\n",
       "      <td>NaN</td>\n",
       "      <td>NaN</td>\n",
       "      <td>NaN</td>\n",
       "      <td>NaN</td>\n",
       "      <td>NaN</td>\n",
       "      <td>NaN</td>\n",
       "      <td>NaN</td>\n",
       "      <td>NaN</td>\n",
       "      <td>NaN</td>\n",
       "    </tr>\n",
       "    <tr>\n",
       "      <th>11</th>\n",
       "      <td>NaN</td>\n",
       "      <td>NaN</td>\n",
       "      <td>NaN</td>\n",
       "      <td>NaN</td>\n",
       "      <td>NaN</td>\n",
       "      <td>NaN</td>\n",
       "      <td>NaN</td>\n",
       "      <td>NaN</td>\n",
       "      <td>NaN</td>\n",
       "      <td>NaN</td>\n",
       "      <td>NaN</td>\n",
       "      <td>NaN</td>\n",
       "      <td>NaN</td>\n",
       "      <td>NaN</td>\n",
       "      <td>NaN</td>\n",
       "      <td>NaN</td>\n",
       "    </tr>\n",
       "  </tbody>\n",
       "</table>\n",
       "</div>"
      ],
      "text/plain": [
       "         Date  Round  Military  Gold  Wonder  Civic  Commercial  Scientific  \\\n",
       "0   7/12/2015      1        -4     2       3      0           2          28   \n",
       "1   7/12/2015      2        16     6      10      0           0          11   \n",
       "2   7/28/2015      1        -3     6      12      8           0           1   \n",
       "3         NaN    NaN       NaN   NaN     NaN    NaN         NaN         NaN   \n",
       "4         NaN    NaN       NaN   NaN     NaN    NaN         NaN         NaN   \n",
       "5         NaN    NaN       NaN   NaN     NaN    NaN         NaN         NaN   \n",
       "6         NaN    NaN       NaN   NaN     NaN    NaN         NaN         NaN   \n",
       "7         NaN    NaN       NaN   NaN     NaN    NaN         NaN         NaN   \n",
       "8         NaN    NaN       NaN   NaN     NaN    NaN         NaN         NaN   \n",
       "9         NaN    NaN       NaN   NaN     NaN    NaN         NaN         NaN   \n",
       "10        NaN    NaN       NaN   NaN     NaN    NaN         NaN         NaN   \n",
       "11        NaN    NaN       NaN   NaN     NaN    NaN         NaN         NaN   \n",
       "\n",
       "    Guilds  City  Total Score  Rank  Total Players Left Player Right Player  \\\n",
       "0       25   NaN           56     2              7     Brendan        Ethan   \n",
       "1       12   NaN           55     2              7      Iosefa        Ethan   \n",
       "2        0     5           29     7              8     Brendan       Iosefa   \n",
       "3      NaN   NaN          NaN   NaN            NaN         NaN          NaN   \n",
       "4      NaN   NaN          NaN   NaN            NaN         NaN          NaN   \n",
       "5      NaN   NaN          NaN   NaN            NaN         NaN          NaN   \n",
       "6      NaN   NaN          NaN   NaN            NaN         NaN          NaN   \n",
       "7      NaN   NaN          NaN   NaN            NaN         NaN          NaN   \n",
       "8      NaN   NaN          NaN   NaN            NaN         NaN          NaN   \n",
       "9      NaN   NaN          NaN   NaN            NaN         NaN          NaN   \n",
       "10     NaN   NaN          NaN   NaN            NaN         NaN          NaN   \n",
       "11     NaN   NaN          NaN   NaN            NaN         NaN          NaN   \n",
       "\n",
       "       Arena  \n",
       "0   Brendo's  \n",
       "1   Brendo's  \n",
       "2   Brendo's  \n",
       "3        NaN  \n",
       "4        NaN  \n",
       "5        NaN  \n",
       "6        NaN  \n",
       "7        NaN  \n",
       "8        NaN  \n",
       "9        NaN  \n",
       "10       NaN  \n",
       "11       NaN  "
      ]
     },
     "execution_count": 88,
     "metadata": {},
     "output_type": "execute_result"
    }
   ],
   "source": [
    "df = pd.read_csv(r'7 Wonders Score - Cristina.tsv', sep = '\\t', \n",
    "    skipfooter = 16, skip_blank_lines = True, engine = 'python')\n",
    "df"
   ]
  },
  {
   "cell_type": "code",
   "execution_count": 86,
   "metadata": {
    "collapsed": false
   },
   "outputs": [
    {
     "data": {
      "text/plain": [
       "12"
      ]
     },
     "execution_count": 86,
     "metadata": {},
     "output_type": "execute_result"
    }
   ],
   "source": [
    "len(df)"
   ]
  },
  {
   "cell_type": "code",
   "execution_count": 91,
   "metadata": {
    "collapsed": false
   },
   "outputs": [
    {
     "data": {
      "text/html": [
       "<div>\n",
       "<table border=\"1\" class=\"dataframe\">\n",
       "  <thead>\n",
       "    <tr style=\"text-align: right;\">\n",
       "      <th></th>\n",
       "      <th>Date</th>\n",
       "      <th>Round</th>\n",
       "      <th>Military</th>\n",
       "      <th>Gold</th>\n",
       "      <th>Wonder</th>\n",
       "      <th>Civic</th>\n",
       "      <th>Commercial</th>\n",
       "      <th>Scientific</th>\n",
       "      <th>Guilds</th>\n",
       "      <th>City</th>\n",
       "      <th>Total Score</th>\n",
       "      <th>Rank</th>\n",
       "      <th>Total Players</th>\n",
       "      <th>Left Player</th>\n",
       "      <th>Right Player</th>\n",
       "      <th>Arena</th>\n",
       "    </tr>\n",
       "  </thead>\n",
       "  <tbody>\n",
       "    <tr>\n",
       "      <th>0</th>\n",
       "      <td>7/12/2015</td>\n",
       "      <td>1</td>\n",
       "      <td>-5</td>\n",
       "      <td>5</td>\n",
       "      <td>10</td>\n",
       "      <td>16</td>\n",
       "      <td>9</td>\n",
       "      <td>1</td>\n",
       "      <td>0</td>\n",
       "      <td>NaN</td>\n",
       "      <td>36</td>\n",
       "      <td>6</td>\n",
       "      <td>7</td>\n",
       "      <td>Kevin</td>\n",
       "      <td>Iosefa</td>\n",
       "      <td>Brendo's</td>\n",
       "    </tr>\n",
       "    <tr>\n",
       "      <th>1</th>\n",
       "      <td>7/12/2015</td>\n",
       "      <td>2</td>\n",
       "      <td>2</td>\n",
       "      <td>8</td>\n",
       "      <td>5</td>\n",
       "      <td>30</td>\n",
       "      <td>0</td>\n",
       "      <td>1</td>\n",
       "      <td>18</td>\n",
       "      <td>NaN</td>\n",
       "      <td>64</td>\n",
       "      <td>1</td>\n",
       "      <td>7</td>\n",
       "      <td>Lorelei</td>\n",
       "      <td>Brendan</td>\n",
       "      <td>Brendo's</td>\n",
       "    </tr>\n",
       "    <tr>\n",
       "      <th>2</th>\n",
       "      <td>7/19/2015</td>\n",
       "      <td>1</td>\n",
       "      <td>-6</td>\n",
       "      <td>5</td>\n",
       "      <td>10</td>\n",
       "      <td>24</td>\n",
       "      <td>0</td>\n",
       "      <td>0</td>\n",
       "      <td>10</td>\n",
       "      <td>NaN</td>\n",
       "      <td>43</td>\n",
       "      <td>5</td>\n",
       "      <td>5</td>\n",
       "      <td>Kevin</td>\n",
       "      <td>Iosefa</td>\n",
       "      <td>Brendo's</td>\n",
       "    </tr>\n",
       "    <tr>\n",
       "      <th>3</th>\n",
       "      <td>7/19/2015</td>\n",
       "      <td>2</td>\n",
       "      <td>13</td>\n",
       "      <td>4</td>\n",
       "      <td>20</td>\n",
       "      <td>19</td>\n",
       "      <td>8</td>\n",
       "      <td>0</td>\n",
       "      <td>0</td>\n",
       "      <td>NaN</td>\n",
       "      <td>64</td>\n",
       "      <td>1</td>\n",
       "      <td>5</td>\n",
       "      <td>Brendan</td>\n",
       "      <td>Ethan</td>\n",
       "      <td>Brendo's</td>\n",
       "    </tr>\n",
       "    <tr>\n",
       "      <th>4</th>\n",
       "      <td>7/19/2015</td>\n",
       "      <td>3</td>\n",
       "      <td>8</td>\n",
       "      <td>2</td>\n",
       "      <td>15</td>\n",
       "      <td>9</td>\n",
       "      <td>0</td>\n",
       "      <td>10</td>\n",
       "      <td>0</td>\n",
       "      <td>NaN</td>\n",
       "      <td>44</td>\n",
       "      <td>4</td>\n",
       "      <td>5</td>\n",
       "      <td>Brendan</td>\n",
       "      <td>Ethan</td>\n",
       "      <td>Brendo's</td>\n",
       "    </tr>\n",
       "  </tbody>\n",
       "</table>\n",
       "</div>"
      ],
      "text/plain": [
       "        Date  Round  Military  Gold  Wonder  Civic  Commercial  Scientific  \\\n",
       "0  7/12/2015      1        -5     5      10     16           9           1   \n",
       "1  7/12/2015      2         2     8       5     30           0           1   \n",
       "2  7/19/2015      1        -6     5      10     24           0           0   \n",
       "3  7/19/2015      2        13     4      20     19           8           0   \n",
       "4  7/19/2015      3         8     2      15      9           0          10   \n",
       "\n",
       "   Guilds  City  Total Score  Rank  Total Players Left Player Right Player  \\\n",
       "0       0   NaN           36     6              7       Kevin       Iosefa   \n",
       "1      18   NaN           64     1              7     Lorelei      Brendan   \n",
       "2      10   NaN           43     5              5       Kevin       Iosefa   \n",
       "3       0   NaN           64     1              5     Brendan        Ethan   \n",
       "4       0   NaN           44     4              5     Brendan        Ethan   \n",
       "\n",
       "      Arena  \n",
       "0  Brendo's  \n",
       "1  Brendo's  \n",
       "2  Brendo's  \n",
       "3  Brendo's  \n",
       "4  Brendo's  "
      ]
     },
     "execution_count": 91,
     "metadata": {},
     "output_type": "execute_result"
    }
   ],
   "source": [
    "df = pd.read_csv(r'7 Wonders Score - Miguel.tsv', engine = 'python', sep = '\\t', \n",
    "    skipfooter = 16, skip_blank_lines = True)\n",
    "df.head()"
   ]
  },
  {
   "cell_type": "code",
   "execution_count": 105,
   "metadata": {
    "collapsed": false
   },
   "outputs": [
    {
     "data": {
      "text/html": [
       "<div>\n",
       "<table border=\"1\" class=\"dataframe\">\n",
       "  <thead>\n",
       "    <tr style=\"text-align: right;\">\n",
       "      <th></th>\n",
       "      <th>Date</th>\n",
       "      <th>Round</th>\n",
       "      <th>Military</th>\n",
       "      <th>Gold</th>\n",
       "      <th>Wonder</th>\n",
       "      <th>Civic</th>\n",
       "      <th>Commercial</th>\n",
       "      <th>Scientific</th>\n",
       "      <th>Guilds</th>\n",
       "      <th>City</th>\n",
       "      <th>Total Score</th>\n",
       "      <th>Rank</th>\n",
       "      <th>Total Players</th>\n",
       "      <th>Left Player</th>\n",
       "      <th>Right Player</th>\n",
       "      <th>Arena</th>\n",
       "    </tr>\n",
       "  </thead>\n",
       "  <tbody>\n",
       "    <tr>\n",
       "      <th>0</th>\n",
       "      <td>7/12/2015</td>\n",
       "      <td>1</td>\n",
       "      <td>-4</td>\n",
       "      <td>2</td>\n",
       "      <td>3</td>\n",
       "      <td>0</td>\n",
       "      <td>2</td>\n",
       "      <td>28</td>\n",
       "      <td>25</td>\n",
       "      <td>NaN</td>\n",
       "      <td>56</td>\n",
       "      <td>2</td>\n",
       "      <td>7</td>\n",
       "      <td>Brendan</td>\n",
       "      <td>Ethan</td>\n",
       "      <td>Brendo's</td>\n",
       "    </tr>\n",
       "    <tr>\n",
       "      <th>1</th>\n",
       "      <td>7/12/2015</td>\n",
       "      <td>2</td>\n",
       "      <td>16</td>\n",
       "      <td>6</td>\n",
       "      <td>10</td>\n",
       "      <td>0</td>\n",
       "      <td>0</td>\n",
       "      <td>11</td>\n",
       "      <td>12</td>\n",
       "      <td>NaN</td>\n",
       "      <td>55</td>\n",
       "      <td>2</td>\n",
       "      <td>7</td>\n",
       "      <td>Iosefa</td>\n",
       "      <td>Ethan</td>\n",
       "      <td>Brendo's</td>\n",
       "    </tr>\n",
       "    <tr>\n",
       "      <th>2</th>\n",
       "      <td>7/28/2015</td>\n",
       "      <td>1</td>\n",
       "      <td>-3</td>\n",
       "      <td>6</td>\n",
       "      <td>12</td>\n",
       "      <td>8</td>\n",
       "      <td>0</td>\n",
       "      <td>1</td>\n",
       "      <td>0</td>\n",
       "      <td>5</td>\n",
       "      <td>29</td>\n",
       "      <td>7</td>\n",
       "      <td>8</td>\n",
       "      <td>Brendan</td>\n",
       "      <td>Iosefa</td>\n",
       "      <td>Brendo's</td>\n",
       "    </tr>\n",
       "  </tbody>\n",
       "</table>\n",
       "</div>"
      ],
      "text/plain": [
       "        Date  Round  Military  Gold  Wonder  Civic  Commercial  Scientific  \\\n",
       "0  7/12/2015      1        -4     2       3      0           2          28   \n",
       "1  7/12/2015      2        16     6      10      0           0          11   \n",
       "2  7/28/2015      1        -3     6      12      8           0           1   \n",
       "\n",
       "   Guilds  City  Total Score  Rank  Total Players Left Player Right Player  \\\n",
       "0      25   NaN           56     2              7     Brendan        Ethan   \n",
       "1      12   NaN           55     2              7      Iosefa        Ethan   \n",
       "2       0     5           29     7              8     Brendan       Iosefa   \n",
       "\n",
       "      Arena  \n",
       "0  Brendo's  \n",
       "1  Brendo's  \n",
       "2  Brendo's  "
      ]
     },
     "execution_count": 105,
     "metadata": {},
     "output_type": "execute_result"
    }
   ],
   "source": [
    "df = pd.read_csv(r'7 Wonders Score - Cristina.tsv', engine = 'python', sep = '\\t', \n",
    "    skipfooter = 16)\n",
    "df.dropna(how=\"all\", inplace=True)\n",
    "df"
   ]
  },
  {
   "cell_type": "code",
   "execution_count": 112,
   "metadata": {
    "collapsed": false
   },
   "outputs": [
    {
     "data": {
      "text/plain": [
       "3"
      ]
     },
     "execution_count": 112,
     "metadata": {},
     "output_type": "execute_result"
    }
   ],
   "source": [
    "df = pd.read_csv(r'7 Wonders Score - Cristina.tsv', engine = 'python', \n",
    "\tsep = '\\t',\tskipfooter = 16)\n",
    "df.dropna(how = 'all', inplace = True)\n",
    "len(df)"
   ]
  },
  {
   "cell_type": "code",
   "execution_count": 146,
   "metadata": {
    "collapsed": false
   },
   "outputs": [],
   "source": [
    "df = pd.read_csv(r'7 Wonders Score - Cristina.tsv', engine = 'python', \n",
    "\tsep = '\\t',\tskipfooter = 16)\n",
    "df.dropna(how = 'all', inplace = True)\n"
   ]
  },
  {
   "cell_type": "code",
   "execution_count": 124,
   "metadata": {
    "collapsed": false
   },
   "outputs": [
    {
     "data": {
      "text/html": [
       "<div>\n",
       "<table border=\"1\" class=\"dataframe\">\n",
       "  <thead>\n",
       "    <tr style=\"text-align: right;\">\n",
       "      <th></th>\n",
       "      <th>Military</th>\n",
       "      <th>Gold</th>\n",
       "      <th>Wonder</th>\n",
       "      <th>Civic</th>\n",
       "      <th>Commercial</th>\n",
       "      <th>Scientific</th>\n",
       "      <th>Guilds</th>\n",
       "      <th>City</th>\n",
       "    </tr>\n",
       "  </thead>\n",
       "  <tbody>\n",
       "    <tr>\n",
       "      <th>0</th>\n",
       "      <td>-0.071429</td>\n",
       "      <td>0.035714</td>\n",
       "      <td>0.053571</td>\n",
       "      <td>0.000000</td>\n",
       "      <td>0.035714</td>\n",
       "      <td>0.500000</td>\n",
       "      <td>0.446429</td>\n",
       "      <td>NaN</td>\n",
       "    </tr>\n",
       "    <tr>\n",
       "      <th>1</th>\n",
       "      <td>0.290909</td>\n",
       "      <td>0.109091</td>\n",
       "      <td>0.181818</td>\n",
       "      <td>0.000000</td>\n",
       "      <td>0.000000</td>\n",
       "      <td>0.200000</td>\n",
       "      <td>0.218182</td>\n",
       "      <td>NaN</td>\n",
       "    </tr>\n",
       "    <tr>\n",
       "      <th>2</th>\n",
       "      <td>-0.103448</td>\n",
       "      <td>0.206897</td>\n",
       "      <td>0.413793</td>\n",
       "      <td>0.275862</td>\n",
       "      <td>0.000000</td>\n",
       "      <td>0.034483</td>\n",
       "      <td>0.000000</td>\n",
       "      <td>0.172414</td>\n",
       "    </tr>\n",
       "  </tbody>\n",
       "</table>\n",
       "</div>"
      ],
      "text/plain": [
       "   Military      Gold    Wonder     Civic  Commercial  Scientific    Guilds  \\\n",
       "0 -0.071429  0.035714  0.053571  0.000000    0.035714    0.500000  0.446429   \n",
       "1  0.290909  0.109091  0.181818  0.000000    0.000000    0.200000  0.218182   \n",
       "2 -0.103448  0.206897  0.413793  0.275862    0.000000    0.034483  0.000000   \n",
       "\n",
       "       City  \n",
       "0       NaN  \n",
       "1       NaN  \n",
       "2  0.172414  "
      ]
     },
     "execution_count": 124,
     "metadata": {},
     "output_type": "execute_result"
    }
   ],
   "source": [
    "freq_strat = df[cols].divide(df['Total Score'], axis = 'index')\n",
    "freq_strat"
   ]
  },
  {
   "cell_type": "code",
   "execution_count": 125,
   "metadata": {
    "collapsed": false
   },
   "outputs": [
    {
     "data": {
      "text/plain": [
       "0    Scientific\n",
       "1      Military\n",
       "2        Wonder\n",
       "dtype: object"
      ]
     },
     "execution_count": 125,
     "metadata": {},
     "output_type": "execute_result"
    }
   ],
   "source": [
    "freq_strat.idxmax(axis = 1)"
   ]
  },
  {
   "cell_type": "code",
   "execution_count": 130,
   "metadata": {
    "collapsed": false
   },
   "outputs": [
    {
     "data": {
      "text/plain": [
       "0"
      ]
     },
     "execution_count": 130,
     "metadata": {},
     "output_type": "execute_result"
    }
   ],
   "source": [
    "len(freq_strat.idxmax(axis = 1).mode())"
   ]
  },
  {
   "cell_type": "code",
   "execution_count": 131,
   "metadata": {
    "collapsed": false
   },
   "outputs": [
    {
     "data": {
      "text/plain": [
       "False"
      ]
     },
     "execution_count": 131,
     "metadata": {},
     "output_type": "execute_result"
    }
   ],
   "source": [
    "len(freq_strat) = 0"
   ]
  },
  {
   "cell_type": "code",
   "execution_count": 133,
   "metadata": {
    "collapsed": false
   },
   "outputs": [
    {
     "data": {
      "text/plain": [
       "0"
      ]
     },
     "execution_count": 133,
     "metadata": {},
     "output_type": "execute_result"
    }
   ],
   "source": [
    "freq_strat = df[cols].divide(df['Total Score'], axis = 'index').idxmax(axis = 1).mode()\n",
    "len(freq_strat)"
   ]
  },
  {
   "cell_type": "code",
   "execution_count": 135,
   "metadata": {
    "collapsed": false
   },
   "outputs": [
    {
     "data": {
      "text/plain": [
       "'Scientific'"
      ]
     },
     "execution_count": 135,
     "metadata": {},
     "output_type": "execute_result"
    }
   ],
   "source": [
    "freq_strat = df[cols].divide(df['Total Score'], axis = 'index').idxmax(axis = 1)[0]\n",
    "freq_strat"
   ]
  },
  {
   "cell_type": "code",
   "execution_count": 147,
   "metadata": {
    "collapsed": true
   },
   "outputs": [],
   "source": [
    "freq_strat = df[cols].divide(df['Total Score'], axis = 'index').idxmax(axis = 1).mode()\n",
    "# If there is a tie, the mode won't be found.\n",
    "if len(freq_strat) == 0:\n",
    "\tfreq_strat = df[cols].divide(df['Total Score'], axis = 'index').idxmax(axis = 1)"
   ]
  },
  {
   "cell_type": "code",
   "execution_count": 150,
   "metadata": {
    "collapsed": false
   },
   "outputs": [],
   "source": [
    "freq_strat = df[cols].divide(df['Total Score'], axis = 'index').idxmax(axis = 1).mode()\n",
    "# If there is a tie, the mode won't be found.\n",
    "if len(freq_strat) == 0:\n",
    "\tfreq_strat = df[cols].divide(df['Total Score'], axis = 'index').idxmax(axis = 1)"
   ]
  },
  {
   "cell_type": "code",
   "execution_count": 152,
   "metadata": {
    "collapsed": false
   },
   "outputs": [
    {
     "data": {
      "text/plain": [
       "'Scientific'"
      ]
     },
     "execution_count": 152,
     "metadata": {},
     "output_type": "execute_result"
    }
   ],
   "source": [
    "freq_strat[0]"
   ]
  },
  {
   "cell_type": "code",
   "execution_count": null,
   "metadata": {
    "collapsed": true
   },
   "outputs": [],
   "source": []
  }
 ],
 "metadata": {
  "kernelspec": {
   "display_name": "Python 2",
   "language": "python",
   "name": "python2"
  },
  "language_info": {
   "codemirror_mode": {
    "name": "ipython",
    "version": 2
   },
   "file_extension": ".py",
   "mimetype": "text/x-python",
   "name": "python",
   "nbconvert_exporter": "python",
   "pygments_lexer": "ipython2",
   "version": "2.7.10"
  }
 },
 "nbformat": 4,
 "nbformat_minor": 0
}
